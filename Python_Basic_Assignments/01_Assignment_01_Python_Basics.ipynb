{
  "nbformat": 4,
  "nbformat_minor": 0,
  "metadata": {
    "colab": {
      "provenance": []
    },
    "kernelspec": {
      "name": "python3",
      "display_name": "Python 3"
    },
    "language_info": {
      "name": "python"
    }
  },
  "cells": [
    {
      "cell_type": "markdown",
      "source": [
        "**1.In the below elements which of them are values or an expression? eg:- values can be integer or string and expressions will be mathematical operators.**"
      ],
      "metadata": {
        "id": "NZfibTidr4t-"
      }
    },
    {
      "cell_type": "markdown",
      "source": [
        "`*,'hello', -87.8,-,/,+,6`"
      ],
      "metadata": {
        "id": "KK86A0SC8f4q"
      }
    },
    {
      "cell_type": "markdown",
      "source": [
        "**Solution**: There are a total of 4 Operators and 3 Expressions, They are:\n",
        "\n",
        "*   **Operators**: `*,-,/,+`\n",
        "*   **Values**: `'hello', 87.8, 6`\n",
        "\n"
      ],
      "metadata": {
        "id": "WngQrlLHwbwl"
      }
    },
    {
      "cell_type": "markdown",
      "source": [
        "**2.What is the difference between string and variable?**\n"
      ],
      "metadata": {
        "id": "6MvUIS0xslcd"
      }
    },
    {
      "cell_type": "markdown",
      "source": [
        "**Solution**: \n",
        "\n",
        "\n",
        "\n",
        "*   **Variable:** A Variable is used to store of information, and a String is a type of information you would store in a Variable.\n",
        "*   **String:** A String is a group of characters or a single character usually enclosed in Double quotes `\" \"` or single quotes `' '`\n",
        "\n"
      ],
      "metadata": {
        "id": "HB82NtpMwx6k"
      }
    },
    {
      "cell_type": "markdown",
      "source": [
        "**3.Describe three different Data Types ?**"
      ],
      "metadata": {
        "id": "xw7AEL1jv0PP"
      }
    },
    {
      "cell_type": "markdown",
      "source": [
        "**Solution:**\n",
        "Three fundamental Data types in python are `int`, `float`, `complex`.\n",
        "\n",
        "\n",
        "1.   **int data type:** We can use int data type to represent whole numbers (integral values)\n",
        "2.   **float data type:** We can use float data type to represent floating point values (decimal values)\n",
        "3.   **complex data type:** Complex number is represented by complex class. It is specified as (real part) + (imaginary part)j."
      ],
      "metadata": {
        "id": "oB0yN1zbxHac"
      }
    },
    {
      "cell_type": "code",
      "source": [
        "# Example for int data type\n",
        "int_num=51\n",
        "print(int_num, type(int_num))\n",
        "# Example for float data type\n",
        "flo_num=1.4\n",
        "print(flo_num, type(flo_num))\n",
        "# Example for Complex data type\n",
        "com_num=4+1.5j\n",
        "print(com_num, type(com_num))"
      ],
      "metadata": {
        "colab": {
          "base_uri": "https://localhost:8080/"
        },
        "id": "bQMdDjy54-dD",
        "outputId": "e46d8755-e8b4-4275-9acd-d7289ec58bf0"
      },
      "execution_count": 11,
      "outputs": [
        {
          "output_type": "stream",
          "name": "stdout",
          "text": [
            "51 <class 'int'>\n",
            "1.4 <class 'float'>\n",
            "(4+1.5j) <class 'complex'>\n"
          ]
        }
      ]
    },
    {
      "cell_type": "markdown",
      "source": [
        "**4.What is an expression made up of? What do all expressions do?**\n"
      ],
      "metadata": {
        "id": "mju6xZ6UxwP1"
      }
    },
    {
      "cell_type": "markdown",
      "source": [
        "**Solution:** An expression is a combination of values, variables, operators, and calls to functions. Expressions need to be evaluated. If we ask Python to print an expression, the interpreter evaluates the expression and displays the result."
      ],
      "metadata": {
        "id": "rkufIyKf57Lr"
      }
    },
    {
      "cell_type": "code",
      "source": [
        "# Example\n",
        "4*5+20-40 # Is an Expression, The Python Interpreter Evaluates it to 0"
      ],
      "metadata": {
        "colab": {
          "base_uri": "https://localhost:8080/"
        },
        "id": "y7RwIaYL5c2z",
        "outputId": "eec50d65-da74-477c-d268-3154f8d57bbe"
      },
      "execution_count": 12,
      "outputs": [
        {
          "output_type": "execute_result",
          "data": {
            "text/plain": [
              "0"
            ]
          },
          "metadata": {},
          "execution_count": 12
        }
      ]
    },
    {
      "cell_type": "markdown",
      "source": [
        "**5.This assignment statements, like spam = 10. What is the difference between an expression and a statement?**"
      ],
      "metadata": {
        "id": "LTWGxxx46X9L"
      }
    },
    {
      "cell_type": "markdown",
      "source": [
        "**Solution:** An expression is a combination of values, variables, and operators.When we type an expression at the prompt, the interpreter evaluates it, which means that it finds the value of the expression."
      ],
      "metadata": {
        "id": "KkjFG4gA6evC"
      }
    },
    {
      "cell_type": "markdown",
      "source": [
        "**eg:** 4*5+20-40 is an example of a statement"
      ],
      "metadata": {
        "id": "9fzuompS6jHS"
      }
    },
    {
      "cell_type": "markdown",
      "source": [
        "A statement is a unit of code that has an effect, like creating a variable or displaying a value.When we type a statement, the interpreter executes it, which means that it does whatever the statement says. In general, statements dont have values.\n",
        "\n",
        "**eg:** variable declaration and assignment are statements because they do not return a value"
      ],
      "metadata": {
        "id": "jnES8VyX6nOi"
      }
    },
    {
      "cell_type": "markdown",
      "source": [
        "**6.After running the following code, what does the variable bacon contain?**\n",
        "\n",
        "\n",
        "```\n",
        "bacon = 22\n",
        "bacon + 1\n",
        "```\n",
        "\n",
        "\n"
      ],
      "metadata": {
        "id": "m6QBqdLH5UPj"
      }
    },
    {
      "cell_type": "markdown",
      "source": [
        "**Solution:** The variable bacon is set to 22 .The expression bacon + 1 does not reassign the value in bacon (that would the case if the expression is like bacon = bacon + 1 instead of bacon + 1)"
      ],
      "metadata": {
        "id": "ts8xlSNF588i"
      }
    },
    {
      "cell_type": "code",
      "source": [
        "# Example Case#1\n",
        "bacon=22\n",
        "bacon+1\n",
        "print(bacon)"
      ],
      "metadata": {
        "colab": {
          "base_uri": "https://localhost:8080/"
        },
        "id": "ETPZaCE06I9D",
        "outputId": "ebe9eb4b-d628-41f1-b196-0f5b5067e6f3"
      },
      "execution_count": 13,
      "outputs": [
        {
          "output_type": "stream",
          "name": "stdout",
          "text": [
            "22\n"
          ]
        }
      ]
    },
    {
      "cell_type": "code",
      "source": [
        "#Example Case#2\n",
        "bacon=22\n",
        "bacon=bacon+1 \n",
        "print(bacon)"
      ],
      "metadata": {
        "colab": {
          "base_uri": "https://localhost:8080/"
        },
        "id": "Vfk2nvOU6N6y",
        "outputId": "083647c0-54cf-4712-fdc1-2bacbb40b7bc"
      },
      "execution_count": 14,
      "outputs": [
        {
          "output_type": "stream",
          "name": "stdout",
          "text": [
            "23\n"
          ]
        }
      ]
    },
    {
      "cell_type": "markdown",
      "source": [
        "**7.What should the values of the following two terms be?**"
      ],
      "metadata": {
        "id": "2c2x1Z476GBy"
      }
    },
    {
      "cell_type": "markdown",
      "source": [
        "\n",
        "\n",
        "```\n",
        "'spam'+'spamspam'\n",
        "'spam'*3\n",
        "```\n",
        "\n"
      ],
      "metadata": {
        "id": "kjLdm6P47AgS"
      }
    },
    {
      "cell_type": "markdown",
      "source": [
        "**Solution:** Both expressions evaluate to the string 'spamspamspam' Where as the first expression follows String Concatentation and the second expression follows String Multiplication"
      ],
      "metadata": {
        "id": "235YFRAN7FPq"
      }
    },
    {
      "cell_type": "code",
      "source": [
        "print('spam'+'spamspam') # string concatenation\n",
        "print('spam'*3) # string multiplication"
      ],
      "metadata": {
        "colab": {
          "base_uri": "https://localhost:8080/"
        },
        "id": "IR5IdAuS7Mmr",
        "outputId": "e5fd1ded-561a-4d0c-e057-5bbcc138003e"
      },
      "execution_count": 15,
      "outputs": [
        {
          "output_type": "stream",
          "name": "stdout",
          "text": [
            "spamspamspam\n",
            "spamspamspam\n"
          ]
        }
      ]
    },
    {
      "cell_type": "markdown",
      "source": [
        "**8.Why is eggs a valid variable name while 100 is invalid?**"
      ],
      "metadata": {
        "id": "fG097fo_7Rxy"
      }
    },
    {
      "cell_type": "markdown",
      "source": [
        "**Solution:** As per python,Variable names cannot begin with a number. The python rules for naming a variable are :-\n",
        "\n",
        "\n",
        "\n",
        "1.   Variable name must start with a letter or the underscore character.\n",
        "2.   Variable name cannot start with a number.\n",
        "3.   Variable name can only contain alpha-numeric characters and underscores (A-z, 0-9, & _ ).\n",
        "4.   Variable names are case-sensitive (name, INEURON and ineuron are three different variables).\n",
        "5.   The reserved words(keywords) cannot be used naming the variable.\n"
      ],
      "metadata": {
        "id": "UM7Pi5l27V65"
      }
    },
    {
      "cell_type": "code",
      "source": [
        "code='Ineuron' # Valid variable Initilization\n",
        "10='hello' # Invalid Variable Initilization\n",
        "print(code) #prints the value of egg ie Ineuron\n",
        "print(10) # Raises a Syntax Error as 100 is not a valid variable name"
      ],
      "metadata": {
        "colab": {
          "base_uri": "https://localhost:8080/",
          "height": 130
        },
        "id": "zWsl4SZa7l86",
        "outputId": "0df3b970-05b8-4749-b55d-fa1c1542ab70"
      },
      "execution_count": 17,
      "outputs": [
        {
          "output_type": "error",
          "ename": "SyntaxError",
          "evalue": "ignored",
          "traceback": [
            "\u001b[0;36m  File \u001b[0;32m\"<ipython-input-17-0de657e51638>\"\u001b[0;36m, line \u001b[0;32m2\u001b[0m\n\u001b[0;31m    10='hello' # Invalid Variable Initilization\u001b[0m\n\u001b[0m                                               ^\u001b[0m\n\u001b[0;31mSyntaxError\u001b[0m\u001b[0;31m:\u001b[0m can't assign to literal\n"
          ]
        }
      ]
    },
    {
      "cell_type": "markdown",
      "source": [
        "**9.What three functions can be used to get the integer,floating-point number,or string version of a value?**"
      ],
      "metadata": {
        "id": "3KUqaKZB7xx7"
      }
    },
    {
      "cell_type": "markdown",
      "source": [
        "The `int()`,`float()`,and `str()` functions will evaluate to the integer,floating-point number,string version of the value passed to them."
      ],
      "metadata": {
        "id": "VyLUaedY708q"
      }
    },
    {
      "cell_type": "code",
      "source": [
        "# Examples:\n",
        "print('int(10.0) -> ',int(10.0)) # int() function converts given input to int\n",
        "print('float(10) -> ',float(10)) # float() function converts given input to float\n",
        "print('str(10) -> ',str(10)) # str() function converts given input to string"
      ],
      "metadata": {
        "colab": {
          "base_uri": "https://localhost:8080/"
        },
        "id": "5rcKkbDM79JS",
        "outputId": "4c81159d-df37-4764-ad21-e87a7e8bbb50"
      },
      "execution_count": 18,
      "outputs": [
        {
          "output_type": "stream",
          "name": "stdout",
          "text": [
            "int(10.0) ->  10\n",
            "float(10) ->  10.0\n",
            "str(10) ->  10\n"
          ]
        }
      ]
    },
    {
      "cell_type": "markdown",
      "source": [
        "**10.Why does this expression cause an error? how can you fix it?**"
      ],
      "metadata": {
        "id": "O23LsvzJ8Bpq"
      }
    },
    {
      "cell_type": "markdown",
      "source": [
        "`'I have eaten ' + 99 + 'burritos.'`"
      ],
      "metadata": {
        "id": "HCZ2_-BW8CsD"
      }
    },
    {
      "cell_type": "markdown",
      "source": [
        "**Solution:** This cause of error is 99.because 99 is not a string. 99 must be typecasted to a string to fix this error. the correct way is:\n",
        "\n",
        "\n",
        "\n",
        "*   **Input:** `'I have eaten ' + str(99) + 'burritos.'`\n",
        "*   **Output:** `'I have eaten 99 burritos.'`\n"
      ],
      "metadata": {
        "id": "KaSUenmN8GjS"
      }
    },
    {
      "cell_type": "code",
      "source": [
        "print('I have eaten '+str(99)+' burritos')"
      ],
      "metadata": {
        "colab": {
          "base_uri": "https://localhost:8080/"
        },
        "id": "2atHxyCK7NHo",
        "outputId": "8356f989-a78f-407c-e5eb-3d6f2c521671"
      },
      "execution_count": 19,
      "outputs": [
        {
          "output_type": "stream",
          "name": "stdout",
          "text": [
            "I have eaten 99 burritos\n"
          ]
        }
      ]
    }
  ]
}